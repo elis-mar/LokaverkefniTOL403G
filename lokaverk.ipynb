{
 "cells": [
  {
   "cell_type": "markdown",
   "metadata": {},
   "source": [
    "## TÖL403G Lokaverkefni"
   ]
  },
  {
   "cell_type": "code",
   "execution_count": null,
   "metadata": {},
   "outputs": [],
   "source": [
    "import random, time, math\n",
    "from dataclasses import dataclass\n",
    "from heapdict import heapdict\n",
    "from ast import literal_eval"
   ]
  },
  {
   "cell_type": "markdown",
   "metadata": {},
   "source": [
    "Byrjum á því að útfæra einfalda gagnagrind fyrir net. Þetta mun halda utan um upplýsingarnar í skránum ásamt því að gera okkur kleift að útfæra aðferðir sem munu vera gagnlegar síðar."
   ]
  },
  {
   "cell_type": "code",
   "execution_count": 35,
   "metadata": {},
   "outputs": [],
   "source": [
    "@dataclass\n",
    "class Node:\n",
    "    id: int\n",
    "    x_coord: float\n",
    "    y_coord: float\n",
    "    primary: bool\n",
    "\n",
    "@dataclass\n",
    "class Edge:\n",
    "    node_id_from: int\n",
    "    node_id_to: int\n",
    "    length: float\n",
    "    name: list[str]\n",
    "\n",
    "class Graph:\n",
    "\n",
    "    def __init__(self):\n",
    "        self.nodes: dict[int, Node] = {}\n",
    "        self.edges: dict[tuple[int, int], list[Edge]] = {}\n",
    "        self.adj_list: dict[int, list[int]] = {}\n",
    "\n",
    "    def add_node(self, node: Node) -> None:\n",
    "        id = node.id\n",
    "        if id not in self.nodes:\n",
    "            self.nodes[id] = node\n",
    "\n",
    "    def add_edge(self, edge: Edge) -> None:\n",
    "        id_from = edge.node_id_from\n",
    "        id_to = edge.node_id_to\n",
    "        if id_from in self.nodes and id_to in self.nodes:\n",
    "            self.edges.setdefault((id_from, id_to), []).append(edge)\n",
    "            self.adj_list.setdefault(id_from, []).append(id_to)\n",
    "        else:\n",
    "            print(f'skipped edge missing node(s) {id_from} -> {id_to}')\n"
   ]
  },
  {
   "cell_type": "markdown",
   "metadata": {},
   "source": [
    "**2.3.1 Þáttun(*)**\n",
    "\n",
    "Lesið inn netið úr skránum sem eru gefnar, nodes.tsv og edges.tsv. Í skránni nodes.tsv\n",
    "eru hnútar með auðkenni (id), hnit (x, y) og hvort þeir séu á aðalvegi (primary). Í skránni\n",
    "edges.tsv eru leggi frá hnúti u til hnúts v með lengd/length, mæld í metrum, og nafn\n",
    "(name)."
   ]
  },
  {
   "cell_type": "code",
   "execution_count": 42,
   "metadata": {},
   "outputs": [],
   "source": [
    "graph = Graph()\n",
    "\n",
    "with open('nodes.tsv', 'r', encoding='utf-8') as file:\n",
    "    next(file) # skip header\n",
    "    for line in file:\n",
    "        parts = line.strip().split('\\t')\n",
    "        node = Node(\n",
    "            id = int(parts[0]),\n",
    "            x_coord = float(parts[1]),\n",
    "            y_coord = float(parts[2]),\n",
    "            primary = parts[3].lower() == 'true'\n",
    "        )\n",
    "        graph.add_node(node)\n",
    "\n",
    "def parse_edge_name(name: str) -> list[str]:\n",
    "    name = name.strip()\n",
    "    if not name:\n",
    "        return []\n",
    "    \n",
    "    if name.startswith('[') and name.endswith(']'):\n",
    "        try:\n",
    "            result = literal_eval(name)\n",
    "            if isinstance(result, list[str]):\n",
    "                return result\n",
    "            else:\n",
    "                return [str(result)]\n",
    "        except Exception:\n",
    "            return [name]\n",
    "    return [name]\n",
    "\n",
    "with open('edges.tsv', 'r', encoding='utf-8') as file:\n",
    "    next(file) # skip header\n",
    "    for line in file:\n",
    "        parts = line.strip().split('\\t')\n",
    "        edge = Edge(\n",
    "            node_id_from = int(parts[0]),\n",
    "            node_id_to = int(parts[1]),\n",
    "            length = float(parts[2]),\n",
    "            name = parse_edge_name(parts[3]) if len(parts) > 3 else []\n",
    "        )\n",
    "        graph.add_edge(edge)"
   ]
  },
  {
   "cell_type": "markdown",
   "metadata": {},
   "source": [
    "***2.3.2 Leit (⋆⋆)***\n",
    "\n",
    "Ef við setjum hleðslustöðvar á hnúta $v_1, . . . , v_k$ þá er hægt að nota reikniriti Dijkstra til að\n",
    "finna stystu fjarlægð frá hverjum hnúti $u$ í hleðslustöð $v_i$. Útfærið reikniritið sem tekur\n",
    "inn lista af lokahnútum og reiknar fjarlægðir frá öllum hnútum í netinu. Athugið að netið\n",
    "er stefnt net."
   ]
  },
  {
   "cell_type": "code",
   "execution_count": 58,
   "metadata": {},
   "outputs": [],
   "source": [
    "def Dijkstra(g: Graph, source_id: int, target_id: int = None) -> tuple[dict[int, float], dict[int, int]]:\n",
    "    if not g.nodes:\n",
    "        raise ValueError('Graph is empty')\n",
    "    if source_id not in g.nodes:\n",
    "        raise ValueError(f'source id: {source_id} not in graph')\n",
    "    if target_id is not None and target_id not in g.nodes:\n",
    "        raise ValueError(f'target id: {target_id} not in graph')\n",
    "\n",
    "    dist = {}\n",
    "    prev = {}\n",
    "    Q = heapdict()\n",
    "    dist[source_id] = 0\n",
    "    Q[source_id] = dist[source_id]\n",
    "    for v, _ in g.nodes.items():\n",
    "        if v != source_id:\n",
    "            dist[v] = float('inf')\n",
    "            prev[v] = None\n",
    "            Q[v] = dist[v]\n",
    "\n",
    "    while Q:\n",
    "        u, _ = Q.popitem()\n",
    "        if target_id is not None and u == target_id:\n",
    "            break\n",
    "\n",
    "        for neighbour in g.adj_list.get(u, []):\n",
    "            for edge in g.edges.get((u, neighbour), []):\n",
    "                if neighbour in Q:\n",
    "                    alt = dist[u] + edge.length\n",
    "                    if alt < dist[neighbour]:\n",
    "                        dist[neighbour] = alt\n",
    "                        prev[neighbour] = u\n",
    "                        Q[neighbour] = dist[neighbour]\n",
    "\n",
    "    return (dist, prev)\n",
    "\n",
    "def shortest_paths_to_charging_stations(g: Graph, V: list[int]) -> list[tuple[int, int, float]]: # [(u_i.id, v_i.id, path_length)]\n",
    "    shortest_paths = []\n",
    "    for u, _ in g.nodes.items():\n",
    "        (dist, _) = Dijkstra(g, u)\n",
    "        for v in V:\n",
    "            if v in g.nodes:\n",
    "                shortest_paths.append((u, v, dist[v]))\n",
    "    return shortest_paths"
   ]
  },
  {
   "cell_type": "markdown",
   "metadata": {},
   "source": [
    "***2.3.3 Framsetning (⋆)***\n",
    "\n",
    "Setjið fimm hleðslustöðvar í netið og sýnið stystu leið fyrir fimm punkta og teiknið upp á\n",
    "kort. Tékkið ykkur af með því að bera saman leiðina sem er fundin og fjarlægðina miðað\n",
    "við kortavefi eins og t.d. Google Maps."
   ]
  },
  {
   "cell_type": "code",
   "execution_count": null,
   "metadata": {},
   "outputs": [],
   "source": [
    "\n",
    "\n",
    "    '''\n",
    "    To display the path\n",
    "    S = []\n",
    "    u = target\n",
    "    if prev[u.id] or u.id == s_id:\n",
    "        while u:\n",
    "            S.insert(0, u)\n",
    "            u = prev[u]\n",
    "    '''"
   ]
  },
  {
   "cell_type": "markdown",
   "metadata": {},
   "source": [
    "***2.3.4 Tímamælingar (⋆)***\n",
    "\n",
    "Mælið tímann sem reiknirit Dijkstra tekur að reikna allar fjarlægðir í netinu með fimm\n",
    "hleðslustöðvum."
   ]
  },
  {
   "cell_type": "code",
   "execution_count": 59,
   "metadata": {},
   "outputs": [
    {
     "name": "stdout",
     "output_type": "stream",
     "text": [
      "16.950663336118062\n"
     ]
    }
   ],
   "source": [
    "charging_stations = random.sample(list(graph.nodes.keys()), 5)\n",
    "\n",
    "start_time = time.time()\n",
    "shortest_paths_to_charging_stations(graph, charging_stations)\n",
    "end_time = time.time()\n",
    "elapsed_time = end_time - start_time\n",
    "print(elapsed_time / 60)"
   ]
  },
  {
   "cell_type": "markdown",
   "metadata": {},
   "source": [
    "***2.3.5 $A^*$ reikniritið (⋆⋆)***\n",
    "\n",
    "Útfærið $A^*$ reikniritið sem tekur inn lista af lokahnútum og reiknar fjarlægðir frá öll-\n",
    "um hnútum í netinu. Sem neðra mat á fjarlægð á milli hnútanna má taka $d(u, v) =\\sqrt{(x_u − x_v )^2 + (y_u − y_v )^2}$, þ.e. beina loftlínu milli punktanna. Mælið tíma og berið saman\n",
    "við reiknirit Dijkstra."
   ]
  },
  {
   "cell_type": "code",
   "execution_count": null,
   "metadata": {},
   "outputs": [],
   "source": [
    "def potential(u_coords: tuple[float, float], v_coords: tuple[float, float]) -> float:\n",
    "    (x_u, y_u) = u_coords\n",
    "    (x_v, y_v) = v_coords\n",
    "    return math.sqrt((x_u - x_v)**2 + (y_u - y_v)**2)\n",
    "\n",
    "def A_star(g: Graph, source: Node, goal: Node):\n",
    "    return 0"
   ]
  }
 ],
 "metadata": {
  "kernelspec": {
   "display_name": "base",
   "language": "python",
   "name": "python3"
  },
  "language_info": {
   "codemirror_mode": {
    "name": "ipython",
    "version": 3
   },
   "file_extension": ".py",
   "mimetype": "text/x-python",
   "name": "python",
   "nbconvert_exporter": "python",
   "pygments_lexer": "ipython3",
   "version": "3.12.7"
  }
 },
 "nbformat": 4,
 "nbformat_minor": 2
}
